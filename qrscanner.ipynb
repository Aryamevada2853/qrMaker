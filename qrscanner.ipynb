{
 "cells": [
  {
   "cell_type": "code",
   "execution_count": 1,
   "id": "d00f3114-1804-4709-9818-2c33cc5029b7",
   "metadata": {},
   "outputs": [
    {
     "name": "stdout",
     "output_type": "stream",
     "text": [
      "Collecting qrcode[pil]Note: you may need to restart the kernel to use updated packages.\n",
      "\n",
      "  Downloading qrcode-8.0-py3-none-any.whl.metadata (17 kB)\n",
      "Requirement already satisfied: colorama in c:\\users\\aryam\\appdata\\local\\programs\\python\\python312\\lib\\site-packages (from qrcode[pil]) (0.4.6)\n",
      "Requirement already satisfied: pillow>=9.1.0 in c:\\users\\aryam\\appdata\\local\\programs\\python\\python312\\lib\\site-packages (from qrcode[pil]) (10.3.0)\n",
      "Downloading qrcode-8.0-py3-none-any.whl (45 kB)\n",
      "Installing collected packages: qrcode\n",
      "Successfully installed qrcode-8.0\n"
     ]
    }
   ],
   "source": [
    "pip install qrcode[pil]"
   ]
  },
  {
   "cell_type": "code",
   "execution_count": 3,
   "id": "eb06503b-3215-4537-aaf9-7895a732a3bb",
   "metadata": {},
   "outputs": [],
   "source": [
    "import qrcode"
   ]
  },
  {
   "cell_type": "code",
   "execution_count": 4,
   "id": "43c4467c-68e8-4a86-8639-214c49e7c689",
   "metadata": {},
   "outputs": [],
   "source": [
    "\n",
    "# Function to generate a QR Code\n",
    "def generate_qr_code(data, file_name=\"qrcode.png\"):\n",
    "    \"\"\"\n",
    "    Generates a QR Code for the given data and saves it as an image file.\n",
    "\n",
    "    Args:\n",
    "        data (str): The data to encode in the QR Code.\n",
    "        file_name (str): Name of the output image file (default: 'qrcode.png').\n",
    "    \"\"\"\n",
    "    # Create a QR Code object\n",
    "    qr = qrcode.QRCode(\n",
    "        version=1,  # Controls the size of the QR Code (1 = 21x21, up to 40)\n",
    "        error_correction=qrcode.constants.ERROR_CORRECT_L,  # Error correction level\n",
    "        box_size=10,  # Size of each box in the QR Code grid\n",
    "        border=4,  # Border size (minimum is 4)\n",
    "    )\n",
    "    \n",
    "    # Add data to the QR Code\n",
    "    qr.add_data(data)\n",
    "    qr.make(fit=True)\n",
    "\n",
    "    # Generate the image\n",
    "    img = qr.make_image(fill_color=\"black\", back_color=\"white\")\n",
    "\n",
    "    # Save the image\n",
    "    img.save(file_name)\n",
    "    print(f\"QR Code saved as {file_name}\")\n"
   ]
  },
  {
   "cell_type": "code",
   "execution_count": 6,
   "id": "70e119d7-2162-427b-8ea0-ebf4d5fdf5c2",
   "metadata": {},
   "outputs": [
    {
     "name": "stdin",
     "output_type": "stream",
     "text": [
      "Enter the data for the QR Code:  https://youtu.be/S8QgCQA3yVU?si=THaoUGPohYTdkO7q\n",
      "Enter the output file name (default: qrcode.png):  utube.png\n"
     ]
    },
    {
     "name": "stdout",
     "output_type": "stream",
     "text": [
      "QR Code saved as utube.png\n"
     ]
    }
   ],
   "source": [
    "# Input data for QR Code\n",
    "data = input(\"Enter the data for the QR Code: \")\n",
    "file_name = input(\"Enter the output file name (default: qrcode.png): \") or \"qrcode.png\"\n",
    "\n",
    "# Generate the QR Code\n",
    "generate_qr_code(data, file_name)\n"
   ]
  },
  {
   "cell_type": "code",
   "execution_count": null,
   "id": "272f7c22-1586-4286-bb4a-07e13b395e33",
   "metadata": {},
   "outputs": [],
   "source": []
  },
  {
   "cell_type": "code",
   "execution_count": null,
   "id": "09e47b3e-1c8f-441f-841c-569b28057743",
   "metadata": {},
   "outputs": [],
   "source": []
  },
  {
   "cell_type": "code",
   "execution_count": null,
   "id": "c8597da5-ab31-4102-8eca-7bf802158402",
   "metadata": {},
   "outputs": [],
   "source": []
  },
  {
   "cell_type": "code",
   "execution_count": null,
   "id": "28648173-6351-482e-9f60-48f3267cca28",
   "metadata": {},
   "outputs": [],
   "source": []
  },
  {
   "cell_type": "code",
   "execution_count": null,
   "id": "49fb6ce4-dee2-4126-9d51-e9598c0ed7a5",
   "metadata": {},
   "outputs": [],
   "source": []
  },
  {
   "cell_type": "code",
   "execution_count": null,
   "id": "da9ad8a1-c029-4d40-9197-a58b6fb04b32",
   "metadata": {},
   "outputs": [],
   "source": []
  },
  {
   "cell_type": "code",
   "execution_count": null,
   "id": "e4e03669-5c3f-42cf-a77a-ad0493bd16c9",
   "metadata": {},
   "outputs": [],
   "source": []
  },
  {
   "cell_type": "code",
   "execution_count": null,
   "id": "0785fe9f-ec9f-4d15-9321-95a472a53d19",
   "metadata": {},
   "outputs": [],
   "source": []
  },
  {
   "cell_type": "code",
   "execution_count": null,
   "id": "228f3ca7-9c3b-4645-86ee-a70f7c7ff11f",
   "metadata": {},
   "outputs": [],
   "source": []
  },
  {
   "cell_type": "code",
   "execution_count": null,
   "id": "483f78a8-32f5-4a7b-9b2a-09d8d895cd84",
   "metadata": {},
   "outputs": [],
   "source": []
  },
  {
   "cell_type": "code",
   "execution_count": null,
   "id": "f0955ccc-35bc-4d2e-b14b-a5db19e7308a",
   "metadata": {},
   "outputs": [],
   "source": []
  }
 ],
 "metadata": {
  "kernelspec": {
   "display_name": "Python 3 (ipykernel)",
   "language": "python",
   "name": "python3"
  },
  "language_info": {
   "codemirror_mode": {
    "name": "ipython",
    "version": 3
   },
   "file_extension": ".py",
   "mimetype": "text/x-python",
   "name": "python",
   "nbconvert_exporter": "python",
   "pygments_lexer": "ipython3",
   "version": "3.12.8"
  }
 },
 "nbformat": 4,
 "nbformat_minor": 5
}
